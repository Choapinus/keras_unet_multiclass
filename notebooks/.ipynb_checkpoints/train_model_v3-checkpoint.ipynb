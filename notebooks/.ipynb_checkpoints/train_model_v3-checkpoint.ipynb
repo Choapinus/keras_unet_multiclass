{
 "cells": [
  {
   "cell_type": "code",
   "execution_count": 1,
   "metadata": {},
   "outputs": [
    {
     "name": "stderr",
     "output_type": "stream",
     "text": [
      "Using TensorFlow backend.\n"
     ]
    }
   ],
   "source": [
    "import sys\n",
    "\n",
    "sys.path.append('../')\n",
    "\n",
    "from model_v2 import  *\n",
    "from data import *\n",
    "import os\n",
    "import keras\n",
    "import cv2\n",
    "from keras.callbacks import TensorBoard\n",
    "import tensorflow as tf\n",
    "import keras.backend.tensorflow_backend as K\n",
    "import matplotlib.pyplot as plt\n",
    "\n",
    "from utils import utils\n",
    "from utils import helpers\n",
    "\n",
    "config = tf.ConfigProto()\n",
    "config.gpu_options.allow_growth=True\n",
    "sess = tf.Session(config=config)\n",
    "K.set_session(sess)"
   ]
  },
  {
   "cell_type": "code",
   "execution_count": 2,
   "metadata": {},
   "outputs": [],
   "source": [
    "train_path = \"../640x400_small\"\n",
    "image_folder = \"train\"\n",
    "label_folder = \"trainannot\"\n",
    "valid_path =  \"../640x400_small\"\n",
    "valid_image_folder =\"val\"\n",
    "valid_label_folder = \"valannot\"\n",
    "test_path = '../640x400_small/test/'\n",
    "log_filepath = '../log'\n",
    "flag_multi_class = True\n",
    "num_classes = 4\n",
    "\n",
    "dp = data_preprocess(\n",
    "    train_path=train_path,image_folder=image_folder,label_folder=label_folder,\n",
    "    valid_path=valid_path,valid_image_folder=valid_image_folder,valid_label_folder=valid_label_folder,\n",
    "    flag_multi_class=flag_multi_class, num_classes=num_classes, \n",
    "    test_path=test_path, img_rows=640, img_cols=400, csv_name='class_dict.csv'\n",
    ")\n",
    "\n",
    "# train your own model\n",
    "train_data = dp.trainGenerator(batch_size=5)\n",
    "valid_data = dp.validLoad(batch_size=5)\n",
    "test_data = dp.testGenerator()"
   ]
  },
  {
   "cell_type": "code",
   "execution_count": 3,
   "metadata": {},
   "outputs": [
    {
     "name": "stdout",
     "output_type": "stream",
     "text": [
      "WARNING:tensorflow:From /home/choppy/anaconda3/envs/choppy/lib/python3.7/site-packages/tensorflow/python/framework/op_def_library.py:263: colocate_with (from tensorflow.python.framework.ops) is deprecated and will be removed in a future version.\n",
      "Instructions for updating:\n",
      "Colocations handled automatically by placer.\n",
      "WARNING:tensorflow:From /home/choppy/anaconda3/envs/choppy/lib/python3.7/site-packages/keras/backend/tensorflow_backend.py:3445: calling dropout (from tensorflow.python.ops.nn_ops) with keep_prob is deprecated and will be removed in a future version.\n",
      "Instructions for updating:\n",
      "Please use `rate` instead of `keep_prob`. Rate should be set to `rate = 1 - keep_prob`.\n",
      "__________________________________________________________________________________________________\n",
      "Layer (type)                    Output Shape         Param #     Connected to                     \n",
      "==================================================================================================\n",
      "input_1 (InputLayer)            (None, 640, 400, 3)  0                                            \n",
      "__________________________________________________________________________________________________\n",
      "conv2d_1 (Conv2D)               (None, 640, 400, 16) 448         input_1[0][0]                    \n",
      "__________________________________________________________________________________________________\n",
      "conv2d_2 (Conv2D)               (None, 640, 400, 16) 2320        conv2d_1[0][0]                   \n",
      "__________________________________________________________________________________________________\n",
      "max_pooling2d_1 (MaxPooling2D)  (None, 320, 200, 16) 0           conv2d_2[0][0]                   \n",
      "__________________________________________________________________________________________________\n",
      "conv2d_3 (Conv2D)               (None, 320, 200, 32) 4640        max_pooling2d_1[0][0]            \n",
      "__________________________________________________________________________________________________\n",
      "conv2d_4 (Conv2D)               (None, 320, 200, 32) 9248        conv2d_3[0][0]                   \n",
      "__________________________________________________________________________________________________\n",
      "max_pooling2d_2 (MaxPooling2D)  (None, 160, 100, 32) 0           conv2d_4[0][0]                   \n",
      "__________________________________________________________________________________________________\n",
      "conv2d_5 (Conv2D)               (None, 160, 100, 64) 18496       max_pooling2d_2[0][0]            \n",
      "__________________________________________________________________________________________________\n",
      "conv2d_6 (Conv2D)               (None, 160, 100, 64) 36928       conv2d_5[0][0]                   \n",
      "__________________________________________________________________________________________________\n",
      "max_pooling2d_3 (MaxPooling2D)  (None, 80, 50, 64)   0           conv2d_6[0][0]                   \n",
      "__________________________________________________________________________________________________\n",
      "conv2d_7 (Conv2D)               (None, 80, 50, 128)  73856       max_pooling2d_3[0][0]            \n",
      "__________________________________________________________________________________________________\n",
      "conv2d_8 (Conv2D)               (None, 80, 50, 128)  147584      conv2d_7[0][0]                   \n",
      "__________________________________________________________________________________________________\n",
      "dropout_1 (Dropout)             (None, 80, 50, 128)  0           conv2d_8[0][0]                   \n",
      "__________________________________________________________________________________________________\n",
      "max_pooling2d_4 (MaxPooling2D)  (None, 40, 25, 128)  0           dropout_1[0][0]                  \n",
      "__________________________________________________________________________________________________\n",
      "conv2d_9 (Conv2D)               (None, 40, 25, 128)  147584      max_pooling2d_4[0][0]            \n",
      "__________________________________________________________________________________________________\n",
      "conv2d_10 (Conv2D)              (None, 40, 25, 128)  147584      conv2d_9[0][0]                   \n",
      "__________________________________________________________________________________________________\n",
      "dropout_2 (Dropout)             (None, 40, 25, 128)  0           conv2d_10[0][0]                  \n",
      "__________________________________________________________________________________________________\n",
      "up_sampling2d_1 (UpSampling2D)  (None, 80, 50, 128)  0           dropout_2[0][0]                  \n",
      "__________________________________________________________________________________________________\n",
      "conv2d_11 (Conv2D)              (None, 80, 50, 128)  65664       up_sampling2d_1[0][0]            \n",
      "__________________________________________________________________________________________________\n",
      "concatenate_1 (Concatenate)     (None, 80, 50, 256)  0           dropout_1[0][0]                  \n",
      "                                                                 conv2d_11[0][0]                  \n",
      "__________________________________________________________________________________________________\n",
      "conv2d_12 (Conv2D)              (None, 80, 50, 128)  295040      concatenate_1[0][0]              \n",
      "__________________________________________________________________________________________________\n",
      "conv2d_13 (Conv2D)              (None, 80, 50, 128)  147584      conv2d_12[0][0]                  \n",
      "__________________________________________________________________________________________________\n",
      "up_sampling2d_2 (UpSampling2D)  (None, 160, 100, 128 0           conv2d_13[0][0]                  \n",
      "__________________________________________________________________________________________________\n",
      "conv2d_14 (Conv2D)              (None, 160, 100, 64) 32832       up_sampling2d_2[0][0]            \n",
      "__________________________________________________________________________________________________\n",
      "concatenate_2 (Concatenate)     (None, 160, 100, 128 0           conv2d_6[0][0]                   \n",
      "                                                                 conv2d_14[0][0]                  \n",
      "__________________________________________________________________________________________________\n",
      "conv2d_15 (Conv2D)              (None, 160, 100, 64) 73792       concatenate_2[0][0]              \n",
      "__________________________________________________________________________________________________\n",
      "conv2d_16 (Conv2D)              (None, 160, 100, 64) 36928       conv2d_15[0][0]                  \n",
      "__________________________________________________________________________________________________\n",
      "up_sampling2d_3 (UpSampling2D)  (None, 320, 200, 64) 0           conv2d_16[0][0]                  \n",
      "__________________________________________________________________________________________________\n",
      "conv2d_17 (Conv2D)              (None, 320, 200, 32) 8224        up_sampling2d_3[0][0]            \n",
      "__________________________________________________________________________________________________\n",
      "concatenate_3 (Concatenate)     (None, 320, 200, 64) 0           conv2d_4[0][0]                   \n",
      "                                                                 conv2d_17[0][0]                  \n",
      "__________________________________________________________________________________________________\n",
      "conv2d_18 (Conv2D)              (None, 320, 200, 32) 18464       concatenate_3[0][0]              \n",
      "__________________________________________________________________________________________________\n",
      "conv2d_19 (Conv2D)              (None, 320, 200, 32) 9248        conv2d_18[0][0]                  \n",
      "__________________________________________________________________________________________________\n",
      "up_sampling2d_4 (UpSampling2D)  (None, 640, 400, 32) 0           conv2d_19[0][0]                  \n",
      "__________________________________________________________________________________________________\n",
      "conv2d_20 (Conv2D)              (None, 640, 400, 16) 2064        up_sampling2d_4[0][0]            \n",
      "__________________________________________________________________________________________________\n",
      "concatenate_4 (Concatenate)     (None, 640, 400, 32) 0           conv2d_2[0][0]                   \n",
      "                                                                 conv2d_20[0][0]                  \n",
      "__________________________________________________________________________________________________\n",
      "conv2d_21 (Conv2D)              (None, 640, 400, 16) 4624        concatenate_4[0][0]              \n",
      "__________________________________________________________________________________________________\n",
      "conv2d_22 (Conv2D)              (None, 640, 400, 16) 2320        conv2d_21[0][0]                  \n",
      "__________________________________________________________________________________________________\n",
      "conv2d_23 (Conv2D)              (None, 640, 400, 16) 2320        conv2d_22[0][0]                  \n",
      "__________________________________________________________________________________________________\n",
      "conv2d_24 (Conv2D)              (None, 640, 400, 4)  68          conv2d_23[0][0]                  \n",
      "==================================================================================================\n",
      "Total params: 1,287,860\n",
      "Trainable params: 1,287,860\n",
      "Non-trainable params: 0\n",
      "__________________________________________________________________________________________________\n"
     ]
    }
   ],
   "source": [
    "model = unet(num_class=4, input_size=(640, 400, 3))"
   ]
  },
  {
   "cell_type": "code",
   "execution_count": 4,
   "metadata": {},
   "outputs": [
    {
     "name": "stdout",
     "output_type": "stream",
     "text": [
      "WARNING:tensorflow:From /home/choppy/anaconda3/envs/choppy/lib/python3.7/site-packages/tensorflow/python/ops/math_ops.py:3066: to_int32 (from tensorflow.python.ops.math_ops) is deprecated and will be removed in a future version.\n",
      "Instructions for updating:\n",
      "Use tf.cast instead.\n",
      "WARNING:tensorflow:From /home/choppy/anaconda3/envs/choppy/lib/python3.7/site-packages/tensorflow/python/ops/math_grad.py:102: div (from tensorflow.python.ops.math_ops) is deprecated and will be removed in a future version.\n",
      "Instructions for updating:\n",
      "Deprecated in favor of operator or tf.math.divide.\n",
      "Epoch 1/10\n",
      "Found 421 images belonging to 1 classes.\n",
      "Found 112 images belonging to 1 classes.\n",
      "Found 112 images belonging to 1 classes.\n",
      "Found 421 images belonging to 1 classes.\n",
      "100/100 [==============================] - 113s 1s/step - loss: 0.6144 - acc: 0.8294 - val_loss: 0.8012 - val_acc: 0.8427\n",
      "\n",
      "Epoch 00001: val_loss improved from inf to 0.80120, saving model to ../model/Opends_model_v1.hdf5\n",
      "Epoch 2/10\n",
      "100/100 [==============================] - 107s 1s/step - loss: 0.5134 - acc: 0.8466 - val_loss: 0.5932 - val_acc: 0.8592\n",
      "\n",
      "Epoch 00002: val_loss improved from 0.80120 to 0.59317, saving model to ../model/Opends_model_v1.hdf5\n",
      "Epoch 3/10\n",
      "100/100 [==============================] - 107s 1s/step - loss: 0.4259 - acc: 0.8443 - val_loss: 0.4700 - val_acc: 0.8458\n",
      "\n",
      "Epoch 00003: val_loss improved from 0.59317 to 0.47004, saving model to ../model/Opends_model_v1.hdf5\n",
      "Epoch 4/10\n",
      "100/100 [==============================] - 105s 1s/step - loss: 0.3528 - acc: 0.8490 - val_loss: 0.3557 - val_acc: 0.8569\n",
      "\n",
      "Epoch 00004: val_loss improved from 0.47004 to 0.35569, saving model to ../model/Opends_model_v1.hdf5\n",
      "Epoch 5/10\n",
      "100/100 [==============================] - 92s 919ms/step - loss: 0.3038 - acc: 0.8779 - val_loss: 0.3053 - val_acc: 0.8575\n",
      "\n",
      "Epoch 00005: val_loss improved from 0.35569 to 0.30531, saving model to ../model/Opends_model_v1.hdf5\n",
      "Epoch 6/10\n",
      "100/100 [==============================] - 91s 913ms/step - loss: 0.2734 - acc: 0.8926 - val_loss: 0.3471 - val_acc: 0.8306\n",
      "\n",
      "Epoch 00006: val_loss did not improve from 0.30531\n",
      "Epoch 7/10\n",
      "100/100 [==============================] - 92s 919ms/step - loss: 0.2677 - acc: 0.8971 - val_loss: 0.2979 - val_acc: 0.8750\n",
      "\n",
      "Epoch 00007: val_loss improved from 0.30531 to 0.29786, saving model to ../model/Opends_model_v1.hdf5\n",
      "Epoch 8/10\n",
      "100/100 [==============================] - 92s 921ms/step - loss: 0.2470 - acc: 0.9040 - val_loss: 0.6213 - val_acc: 0.8402\n",
      "\n",
      "Epoch 00008: val_loss did not improve from 0.29786\n",
      "Epoch 9/10\n",
      "100/100 [==============================] - 92s 921ms/step - loss: 0.2387 - acc: 0.9064 - val_loss: 0.3110 - val_acc: 0.8411\n",
      "\n",
      "Epoch 00009: val_loss did not improve from 0.29786\n",
      "Epoch 10/10\n",
      "100/100 [==============================] - 92s 919ms/step - loss: 0.2313 - acc: 0.9106 - val_loss: 0.2377 - val_acc: 0.8945\n",
      "\n",
      "Epoch 00010: val_loss improved from 0.29786 to 0.23770, saving model to ../model/Opends_model_v1.hdf5\n"
     ]
    }
   ],
   "source": [
    "tb_cb = TensorBoard(log_dir=log_filepath)\n",
    "model_checkpoint = keras.callbacks.ModelCheckpoint(\n",
    "    '../model/Opends_model_v1.hdf5', monitor='val_loss', verbose=1, save_best_only=True\n",
    ")\n",
    "\n",
    "history = model.fit_generator(\n",
    "    train_data,\n",
    "    steps_per_epoch=100, epochs=10,\n",
    "    validation_steps=1,\n",
    "    validation_data=valid_data,\n",
    "    callbacks=[model_checkpoint, tb_cb]\n",
    ")"
   ]
  },
  {
   "cell_type": "code",
   "execution_count": 5,
   "metadata": {},
   "outputs": [
    {
     "data": {
      "text/plain": [
       "(1, 640, 400, 3)"
      ]
     },
     "execution_count": 5,
     "metadata": {},
     "output_type": "execute_result"
    }
   ],
   "source": [
    "img = next(dp.testGenerator())\n",
    "img.shape"
   ]
  },
  {
   "cell_type": "code",
   "execution_count": 6,
   "metadata": {},
   "outputs": [
    {
     "data": {
      "text/plain": [
       "(1, 640, 400, 4)"
      ]
     },
     "execution_count": 6,
     "metadata": {},
     "output_type": "execute_result"
    }
   ],
   "source": [
    "pred = model.predict(img)\n",
    "pred.shape"
   ]
  },
  {
   "cell_type": "code",
   "execution_count": 7,
   "metadata": {
    "scrolled": true
   },
   "outputs": [
    {
     "data": {
      "text/plain": [
       "array([5.8629064e-16, 6.0881345e-16, 6.1109817e-16, ..., 9.9998355e-01,\n",
       "       9.9998391e-01, 9.9998438e-01], dtype=float32)"
      ]
     },
     "execution_count": 7,
     "metadata": {},
     "output_type": "execute_result"
    }
   ],
   "source": [
    "np.unique(pred)"
   ]
  },
  {
   "cell_type": "code",
   "execution_count": 8,
   "metadata": {},
   "outputs": [
    {
     "data": {
      "image/png": "[encoded data removed]",
      "text/plain": [
       "<Figure size 432x432 with 4 Axes>"
      ]
     },
     "metadata": {
      "needs_background": "light"
     },
     "output_type": "display_data"
    }
   ],
   "source": [
    "fig = plt.figure(figsize=(6, 6))\n",
    "sub1 = plt.subplot(2, 2, 1)\n",
    "sub1.imshow(pred[0, :, :, 0])\n",
    "\n",
    "sub2 = plt.subplot(2, 2, 2)\n",
    "sub2.imshow(pred[0, :, :, 1])\n",
    "\n",
    "sub3 = plt.subplot(2, 2, 3)\n",
    "sub3.imshow(pred[0, :, :, 2])\n",
    "\n",
    "sub4 = plt.subplot(2, 2, 4)\n",
    "sub4.imshow(pred[0, :, :, 3])\n",
    "\n",
    "plt.show()"
   ]
  },
  {
   "cell_type": "code",
   "execution_count": 9,
   "metadata": {},
   "outputs": [
    {
     "data": {
      "text/plain": [
       "(640, 400, 3)"
      ]
     },
     "execution_count": 9,
     "metadata": {},
     "output_type": "execute_result"
    }
   ],
   "source": [
    "reverse_oh = helpers.reverse_one_hot(pred[0])\n",
    "rev_oh_color = helpers.colour_code_segmentation(reverse_oh, dp.label_values)\n",
    "rev_oh_color.shape"
   ]
  },
  {
   "cell_type": "code",
   "execution_count": 10,
   "metadata": {},
   "outputs": [
    {
     "data": {
      "text/plain": [
       "<matplotlib.image.AxesImage at 0x7f77a0191d30>"
      ]
     },
     "execution_count": 10,
     "metadata": {},
     "output_type": "execute_result"
    },
    {
     "data": {
      "image/png": "[encoded data removed]",
      "text/plain": [
       "<Figure size 432x288 with 1 Axes>"
      ]
     },
     "metadata": {
      "needs_background": "light"
     },
     "output_type": "display_data"
    }
   ],
   "source": [
    "plt.imshow(rev_oh_color)"
   ]
  },
  {
   "cell_type": "code",
   "execution_count": 11,
   "metadata": {},
   "outputs": [],
   "source": [
    "import time, datetime\n",
    "\n",
    "img = next(dp.testGenerator())\n",
    "img = next(dp.testGenerator())"
   ]
  },
  {
   "cell_type": "code",
   "execution_count": 12,
   "metadata": {},
   "outputs": [],
   "source": [
    "st = time.time()\n",
    "model.predict(img)\n",
    "final = time.time() - st"
   ]
  },
  {
   "cell_type": "code",
   "execution_count": 13,
   "metadata": {},
   "outputs": [
    {
     "name": "stdout",
     "output_type": "stream",
     "text": [
      "Time = 0.06\n"
     ]
    }
   ],
   "source": [
    "print('Time = %.2f' % (final))"
   ]
  },
  {
   "cell_type": "code",
   "execution_count": null,
   "metadata": {},
   "outputs": [],
   "source": []
  }
 ],
 "metadata": {
  "kernelspec": {
   "display_name": "Python 3",
   "language": "python",
   "name": "python3"
  },
  "language_info": {
   "codemirror_mode": {
    "name": "ipython",
    "version": 3
   },
   "file_extension": ".py",
   "mimetype": "text/x-python",
   "name": "python",
   "nbconvert_exporter": "python",
   "pygments_lexer": "ipython3",
   "version": "3.7.3"
  }
 },
 "nbformat": 4,
 "nbformat_minor": 2
}
